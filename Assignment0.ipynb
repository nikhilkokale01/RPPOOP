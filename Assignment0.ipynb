{
 "cells": [
  {
   "cell_type": "code",
   "execution_count": 10,
   "id": "d833bacd",
   "metadata": {},
   "outputs": [
    {
     "name": "stdout",
     "output_type": "stream",
     "text": [
      "The length of side is 7\n",
      "The area of rectangle of side 7 is 49\n",
      "The perimeter of rectangle of side 7 is 28\n"
     ]
    }
   ],
   "source": [
    "class Rectangle:\n",
    "    def __init__(self):\n",
    "        pass\n",
    "        \n",
    "    def set_length(self,l):\n",
    "        self.side=l\n",
    "        \n",
    "    def get_length(self):\n",
    "        print(\"The length of side is\",self.side)\n",
    "        \n",
    "    def Area(self):\n",
    "        A=(self.side)**2\n",
    "        print(\"The area of rectangle of side\",self.side,\"is\",A)\n",
    "        \n",
    "    def Perimeter(self):\n",
    "        P=4*(self.side)\n",
    "        print(\"The perimeter of rectangle of side\",self.side,\"is\",P)\n",
    "        \n",
    "        \n",
    "obj=Rectangle()\n",
    "obj.set_length(7)\n",
    "obj.get_length()\n",
    "obj.Area()\n",
    "obj.Perimeter()\n",
    "        \n"
   ]
  },
  {
   "cell_type": "code",
   "execution_count": null,
   "id": "7fa3ebbc",
   "metadata": {},
   "outputs": [],
   "source": []
  },
  {
   "cell_type": "code",
   "execution_count": null,
   "id": "eb49943d",
   "metadata": {},
   "outputs": [],
   "source": []
  }
 ],
 "metadata": {
  "kernelspec": {
   "display_name": "Python 3 (ipykernel)",
   "language": "python",
   "name": "python3"
  },
  "language_info": {
   "codemirror_mode": {
    "name": "ipython",
    "version": 3
   },
   "file_extension": ".py",
   "mimetype": "text/x-python",
   "name": "python",
   "nbconvert_exporter": "python",
   "pygments_lexer": "ipython3",
   "version": "3.9.13"
  }
 },
 "nbformat": 4,
 "nbformat_minor": 5
}
