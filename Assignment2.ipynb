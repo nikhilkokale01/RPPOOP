{
 "cells": [
  {
   "cell_type": "code",
   "execution_count": 1,
   "id": "c9fb0e73",
   "metadata": {},
   "outputs": [
    {
     "name": "stdout",
     "output_type": "stream",
     "text": [
      "9\n",
      "SecondYear\n"
     ]
    }
   ],
   "source": [
    "#Polymorphism\n",
    "#1.Polymorphism in addition(+) operator\n",
    "num1=4\n",
    "num2=5\n",
    "print(num1+num2)\n",
    "\n",
    "str1=\"Second\"\n",
    "str2=\"Year\"\n",
    "print(str1+str2)"
   ]
  },
  {
   "cell_type": "code",
   "execution_count": 6,
   "id": "e446dd04",
   "metadata": {},
   "outputs": [
    {
     "name": "stdout",
     "output_type": "stream",
     "text": [
      "The size of string is  7\n",
      "The size of array is  6\n",
      "The size if dictionary is  4\n"
     ]
    }
   ],
   "source": [
    "#2.Functional polymorphism\n",
    "print(\"The size of string is \",len(\"COURAGE\"))\n",
    "print(\"The size of array is \",len({1,2,3,4,5,6}))\n",
    "print(\"The size if dictionary is \",len({\"Nikhil\":90,\"Nachiket\":94,\"Ketan\":85,\"Yash\":97}))"
   ]
  },
  {
   "cell_type": "code",
   "execution_count": 9,
   "id": "1a98e434",
   "metadata": {},
   "outputs": [
    {
     "name": "stdout",
     "output_type": "stream",
     "text": [
      "Nikhil is male\n",
      "Neha is female\n"
     ]
    }
   ],
   "source": [
    "#3.Method Overridding\n",
    "class Human:\n",
    "    def __init__(self,name):\n",
    "        self.name=name\n",
    "        \n",
    "    def info(self):\n",
    "        print(self.name,\"is human\")\n",
    "        \n",
    "class Male(Human):\n",
    "    def __init__(self,name):\n",
    "        super().__init__(name)\n",
    "        \n",
    "    def info(self):\n",
    "        print(self.name,\"is male\")\n",
    "        \n",
    "class Female(Human):\n",
    "    def __init__(self,name):\n",
    "        super().__init__(name)\n",
    "        \n",
    "    def info(self):\n",
    "        print(self.name,\"is female\")\n",
    "        \n",
    "M=Male(\"Nikhil\")\n",
    "F=Female(\"Neha\")\n",
    "\n",
    "for human in (M,F):\n",
    "    human.info()"
   ]
  },
  {
   "cell_type": "code",
   "execution_count": null,
   "id": "d5fbd84a",
   "metadata": {},
   "outputs": [],
   "source": []
  }
 ],
 "metadata": {
  "kernelspec": {
   "display_name": "Python 3 (ipykernel)",
   "language": "python",
   "name": "python3"
  },
  "language_info": {
   "codemirror_mode": {
    "name": "ipython",
    "version": 3
   },
   "file_extension": ".py",
   "mimetype": "text/x-python",
   "name": "python",
   "nbconvert_exporter": "python",
   "pygments_lexer": "ipython3",
   "version": "3.9.13"
  }
 },
 "nbformat": 4,
 "nbformat_minor": 5
}
